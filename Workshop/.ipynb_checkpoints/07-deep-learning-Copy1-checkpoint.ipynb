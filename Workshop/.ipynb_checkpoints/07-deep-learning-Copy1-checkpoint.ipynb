{
 "cells": [
  {
   "cell_type": "markdown",
   "metadata": {},
   "source": [
    "# Deep Learning with keras"
   ]
  },
  {
   "cell_type": "markdown",
   "metadata": {},
   "source": [
    "In this workshop, we will try to build some feedforward models to do sentiment analysis, using keras, a deep learning library: https://keras.io/\n",
    "\n",
    "You will need pandas, keras (2.3.1) and tensorflow (2.1.0; and their dependencies) to run this code (pip install pandas keras==2.3.1 tensorflow-cpu==2.1.0)."
   ]
  },
  {
   "cell_type": "markdown",
   "metadata": {},
   "source": [
    "First let's prepare the data. We are using 1000 yelp reviews, nnotated with either positive or negative sentiments."
   ]
  },
  {
   "cell_type": "code",
   "execution_count": 1,
   "metadata": {},
   "outputs": [
    {
     "name": "stdout",
     "output_type": "stream",
     "text": [
      "Number of sentences = 1000\n",
      "\n",
      "Data:\n",
      "                                    sentence  label\n",
      "0                   Wow... Loved this place.      1\n",
      "1                         Crust is not good.      0\n",
      "2  Not tasty and the texture was just nasty.      0\n"
     ]
    }
   ],
   "source": [
    "import pandas as pd\n",
    "\n",
    "corpus = \"07-yelp-dataset.txt\"\n",
    "df = pd.read_csv(corpus, names=['sentence', 'label'], sep='\\t')\n",
    "print(\"Number of sentences =\", len(df))\n",
    "print(\"\\nData:\")\n",
    "print(df.iloc[:3])"
   ]
  },
  {
   "cell_type": "markdown",
   "metadata": {},
   "source": [
    "Next, let's create the train/dev/test partitions"
   ]
  },
  {
   "cell_type": "code",
   "execution_count": 2,
   "metadata": {},
   "outputs": [
    {
     "name": "stdout",
     "output_type": "stream",
     "text": [
      "1 Wow... Loved this place.\n",
      "0 I'm super pissd.\n",
      "0 Spend your money elsewhere.\n"
     ]
    }
   ],
   "source": [
    "import random\n",
    "import numpy as np\n",
    "\n",
    "sentences = df['sentence'].values\n",
    "labels = df['label'].values\n",
    "\n",
    "#partition data into 80/10/10 for train/dev/test\n",
    "sentences_train, y_train = sentences[:800], labels[:800]\n",
    "sentences_dev, y_dev = sentences[800:900], labels[800:900]\n",
    "sentences_test, y_test = sentences[900:1000], labels[900:1000]\n",
    "\n",
    "#convert label list into arrays\n",
    "y_train = np.array(y_train)\n",
    "y_dev = np.array(y_dev)\n",
    "y_test = np.array(y_test)\n",
    "\n",
    "print(y_train[0], sentences_train[0])\n",
    "print(y_dev[0], sentences_dev[0])\n",
    "print(y_test[0], sentences_test[0])"
   ]
  },
  {
   "cell_type": "markdown",
   "metadata": {},
   "source": [
    "Let's tokenize the text. In this workshop, we'll use the ``tokenizer`` function provided by keras. Once the data is tokenized, we can then use ``texts_to_matrix`` to get the bag-of-words representation for each document."
   ]
  },
  {
   "cell_type": "code",
   "execution_count": 5,
   "metadata": {},
   "outputs": [
    {
     "name": "stderr",
     "output_type": "stream",
     "text": [
      "Using TensorFlow backend.\n"
     ]
    },
    {
     "name": "stdout",
     "output_type": "stream",
     "text": [
      "Vocab size = 1811\n",
      "[0. 0. 0. ... 0. 0. 0.]\n"
     ]
    }
   ],
   "source": [
    "from keras.preprocessing.text import Tokenizer\n",
    "\n",
    "tokenizer = Tokenizer(oov_token=\"<UNK>\")\n",
    "tokenizer.fit_on_texts(sentences_train)\n",
    "\n",
    "x_train = tokenizer.texts_to_matrix(sentences_train, mode=\"count\") #BOW representation\n",
    "x_dev = tokenizer.texts_to_matrix(sentences_dev, mode=\"count\") #BOW representation\n",
    "x_test = tokenizer.texts_to_matrix(sentences_test, mode=\"count\") #BOW representation\n",
    "\n",
    "vocab_size = x_train.shape[1]\n",
    "print(\"Vocab size =\", vocab_size)\n",
    "print(x_train[0])"
   ]
  },
  {
   "cell_type": "markdown",
   "metadata": {},
   "source": [
    "Before we build a neural network model, let's see how well logistic regression do with this dataset."
   ]
  },
  {
   "cell_type": "code",
   "execution_count": 6,
   "metadata": {},
   "outputs": [
    {
     "name": "stdout",
     "output_type": "stream",
     "text": [
      "Accuracy: 0.69\n"
     ]
    },
    {
     "name": "stderr",
     "output_type": "stream",
     "text": [
      "/Users/jiachengye/opt/anaconda3/lib/python3.7/site-packages/sklearn/linear_model/logistic.py:432: FutureWarning: Default solver will be changed to 'lbfgs' in 0.22. Specify a solver to silence this warning.\n",
      "  FutureWarning)\n"
     ]
    }
   ],
   "source": [
    "from sklearn.linear_model import LogisticRegression\n",
    "\n",
    "classifier = LogisticRegression()\n",
    "classifier.fit(x_train, y_train)\n",
    "score = classifier.score(x_test, y_test)\n",
    "\n",
    "print(\"Accuracy:\", score)"
   ]
  },
  {
   "cell_type": "markdown",
   "metadata": {},
   "source": [
    "The logistic regression result is not too bad, and it will serve as a baseline for the deep learning models.\n",
    "\n",
    "Now let's build a very simple feedforward network. Here the input layer is the BOW features, and we have one hidden layer (dimension = 10) and an output layer in the model."
   ]
  },
  {
   "cell_type": "code",
   "execution_count": 7,
   "metadata": {},
   "outputs": [
    {
     "name": "stdout",
     "output_type": "stream",
     "text": [
      "Model: \"feedforward-bow-input\"\n",
      "_________________________________________________________________\n",
      "Layer (type)                 Output Shape              Param #   \n",
      "=================================================================\n",
      "dense_1 (Dense)              (None, 10)                18120     \n",
      "_________________________________________________________________\n",
      "dense_2 (Dense)              (None, 1)                 11        \n",
      "=================================================================\n",
      "Total params: 18,131\n",
      "Trainable params: 18,131\n",
      "Non-trainable params: 0\n",
      "_________________________________________________________________\n"
     ]
    }
   ],
   "source": [
    "from keras.models import Sequential\n",
    "from keras import layers\n",
    "\n",
    "#model definition\n",
    "model = Sequential(name=\"feedforward-bow-input\")\n",
    "model.add(layers.Dense(10, input_dim=vocab_size, activation='relu'))\n",
    "model.add(layers.Dense(1, activation='sigmoid'))\n",
    "\n",
    "#since it's a binary classification problem, we use a binary cross entropy loss here\n",
    "model.compile(loss='binary_crossentropy', optimizer='adam', metrics=['accuracy'])\n",
    "model.summary()"
   ]
  },
  {
   "cell_type": "markdown",
   "metadata": {},
   "source": [
    "Let's train the model. Notice that there are a few hyper-parameters here, e.g. hidden layer size, number of epochs and batch_size, and in practice these hyper-parameters should be tuned according to the development data to get an optimal model. In this workshop we'll use 20 epochs and a batch size of 10 (no further tuning). Once the model is trained, we'll compute the test accuracy performance."
   ]
  },
  {
   "cell_type": "code",
   "execution_count": 8,
   "metadata": {},
   "outputs": [
    {
     "name": "stdout",
     "output_type": "stream",
     "text": [
      "Train on 800 samples, validate on 100 samples\n",
      "Epoch 1/20\n",
      "800/800 [==============================] - 0s 266us/step - loss: 0.6750 - accuracy: 0.5962 - val_loss: 0.6845 - val_accuracy: 0.4900\n",
      "Epoch 2/20\n",
      "800/800 [==============================] - 0s 84us/step - loss: 0.6011 - accuracy: 0.7050 - val_loss: 0.6521 - val_accuracy: 0.5700\n",
      "Epoch 3/20\n",
      "800/800 [==============================] - 0s 74us/step - loss: 0.5012 - accuracy: 0.8200 - val_loss: 0.5911 - val_accuracy: 0.6900\n",
      "Epoch 4/20\n",
      "800/800 [==============================] - 0s 75us/step - loss: 0.3983 - accuracy: 0.9112 - val_loss: 0.5297 - val_accuracy: 0.7400\n",
      "Epoch 5/20\n",
      "800/800 [==============================] - 0s 70us/step - loss: 0.3134 - accuracy: 0.9463 - val_loss: 0.4941 - val_accuracy: 0.7700\n",
      "Epoch 6/20\n",
      "800/800 [==============================] - 0s 82us/step - loss: 0.2485 - accuracy: 0.9638 - val_loss: 0.4687 - val_accuracy: 0.7600\n",
      "Epoch 7/20\n",
      "800/800 [==============================] - 0s 108us/step - loss: 0.1995 - accuracy: 0.9725 - val_loss: 0.4500 - val_accuracy: 0.8000\n",
      "Epoch 8/20\n",
      "800/800 [==============================] - 0s 117us/step - loss: 0.1616 - accuracy: 0.9812 - val_loss: 0.4408 - val_accuracy: 0.8000\n",
      "Epoch 9/20\n",
      "800/800 [==============================] - 0s 107us/step - loss: 0.1330 - accuracy: 0.9900 - val_loss: 0.4314 - val_accuracy: 0.8100\n",
      "Epoch 10/20\n",
      "800/800 [==============================] - 0s 82us/step - loss: 0.1107 - accuracy: 0.9900 - val_loss: 0.4310 - val_accuracy: 0.8100\n",
      "Epoch 11/20\n",
      "800/800 [==============================] - 0s 79us/step - loss: 0.0929 - accuracy: 0.9937 - val_loss: 0.4329 - val_accuracy: 0.8100\n",
      "Epoch 12/20\n",
      "800/800 [==============================] - 0s 81us/step - loss: 0.0789 - accuracy: 0.9937 - val_loss: 0.4269 - val_accuracy: 0.8100\n",
      "Epoch 13/20\n",
      "800/800 [==============================] - 0s 94us/step - loss: 0.0676 - accuracy: 0.9950 - val_loss: 0.4292 - val_accuracy: 0.8200\n",
      "Epoch 14/20\n",
      "800/800 [==============================] - 0s 82us/step - loss: 0.0584 - accuracy: 0.9962 - val_loss: 0.4313 - val_accuracy: 0.8300\n",
      "Epoch 15/20\n",
      "800/800 [==============================] - 0s 78us/step - loss: 0.0506 - accuracy: 0.9962 - val_loss: 0.4337 - val_accuracy: 0.8300\n",
      "Epoch 16/20\n",
      "800/800 [==============================] - 0s 77us/step - loss: 0.0441 - accuracy: 1.0000 - val_loss: 0.4314 - val_accuracy: 0.8300\n",
      "Epoch 17/20\n",
      "800/800 [==============================] - 0s 79us/step - loss: 0.0388 - accuracy: 0.9987 - val_loss: 0.4412 - val_accuracy: 0.8300\n",
      "Epoch 18/20\n",
      "800/800 [==============================] - 0s 78us/step - loss: 0.0342 - accuracy: 1.0000 - val_loss: 0.4487 - val_accuracy: 0.8200\n",
      "Epoch 19/20\n",
      "800/800 [==============================] - 0s 72us/step - loss: 0.0304 - accuracy: 1.0000 - val_loss: 0.4582 - val_accuracy: 0.8200\n",
      "Epoch 20/20\n",
      "800/800 [==============================] - 0s 79us/step - loss: 0.0271 - accuracy: 1.0000 - val_loss: 0.4564 - val_accuracy: 0.8300\n",
      "\n",
      "Testing Accuracy:  0.7200\n"
     ]
    }
   ],
   "source": [
    "#training\n",
    "model.fit(x_train, y_train, epochs=20, verbose=True, validation_data=(x_dev, y_dev), batch_size=10)\n",
    "\n",
    "loss, accuracy = model.evaluate(x_test, y_test, verbose=False)\n",
    "print(\"\\nTesting Accuracy:  {:.4f}\".format(accuracy))"
   ]
  },
  {
   "cell_type": "markdown",
   "metadata": {},
   "source": [
    "How does the performance compare to logistic regression? If you run it a few times you may find that it gives slightly different numbers, and that is due to random initialisation of the model parameters."
   ]
  },
  {
   "cell_type": "markdown",
   "metadata": {},
   "source": [
    "Even though we did not explicitly define any word embeddings in the model architecture, they are in our model: in the weights between the input and the hidden layer. The hidden layer can therefore be interpreted as a sum of word embeddings for each input document.\n",
    "\n",
    "Let's fetch the word embeddings of some words, and look at their cosine similarity, and see if they make any sense."
   ]
  },
  {
   "cell_type": "code",
   "execution_count": 9,
   "metadata": {},
   "outputs": [
    {
     "name": "stdout",
     "output_type": "stream",
     "text": [
      "[ 0.27030575  0.34660634  0.18217364 -0.22256967  0.2348451   0.2069386\n",
      " -0.20672679 -0.2902843  -0.24853283  0.23060597]\n",
      "love vs. like = 0.7652442\n",
      "love vs. lukewarm = -0.9745116\n",
      "love vs. bad = -0.9607358\n",
      "lukewarm vs. bad = 0.9527822\n"
     ]
    }
   ],
   "source": [
    "from numpy import dot\n",
    "from numpy.linalg import norm\n",
    "\n",
    "embeddings = model.get_layer(index=0).get_weights()[0] #word embeddings layer\n",
    "\n",
    "emb_love = embeddings[tokenizer.word_index[\"love\"]] #embeddings for 'love'\n",
    "emb_like = embeddings[tokenizer.word_index[\"like\"]]\n",
    "emb_lukewarm = embeddings[tokenizer.word_index[\"lukewarm\"]]\n",
    "emb_bad = embeddings[tokenizer.word_index[\"bad\"]]\n",
    "\n",
    "print(emb_love)\n",
    "\n",
    "def cos_sim(a, b):\n",
    "    return dot(a, b)/(norm(a)*norm(b))\n",
    "\n",
    "print(\"love vs. like =\", cos_sim(emb_love, emb_like))\n",
    "print(\"love vs. lukewarm =\", cos_sim(emb_love, emb_lukewarm))\n",
    "print(\"love vs. bad =\", cos_sim(emb_love, emb_bad))\n",
    "print(\"lukewarm vs. bad =\", cos_sim(emb_lukewarm, emb_bad))"
   ]
  },
  {
   "cell_type": "markdown",
   "metadata": {},
   "source": [
    "Not bad. You should find that for *love* and *like*, which are both positive sentiment words, produce high cosine similarity. Similar observations for *lukewarm* and *bad*. But when we compare opposite polarity words like *love* and *bad*, we get negative cosine similarity values."
   ]
  },
  {
   "cell_type": "markdown",
   "metadata": {},
   "source": [
    "Next, we are going to build another feed-forward model, but this time, instead of using BOW features as input, we want to use the word sequence as input (so order of words is preserved). It is usually not straightforward to do this for classical machine learning models, but with neural networks and embeddings, it's pretty straightforward.\n",
    "\n",
    "Let's first tokenise the input documents into word sequences."
   ]
  },
  {
   "cell_type": "code",
   "execution_count": 10,
   "metadata": {},
   "outputs": [
    {
     "name": "stdout",
     "output_type": "stream",
     "text": [
      "[354, 138, 9, 17]\n"
     ]
    }
   ],
   "source": [
    "#tokenise the input into word sequences\n",
    "\n",
    "xseq_train = tokenizer.texts_to_sequences(sentences_train)\n",
    "xseq_dev = tokenizer.texts_to_sequences(sentences_dev)\n",
    "xseq_test = tokenizer.texts_to_sequences(sentences_test)\n",
    "\n",
    "print(xseq_train[0])"
   ]
  },
  {
   "cell_type": "markdown",
   "metadata": {},
   "source": [
    "Because documents have variable lengths, we need to first 'pad' them to make all documents have the same length. keras uses word index 0 to represent 'pad symbols'."
   ]
  },
  {
   "cell_type": "code",
   "execution_count": 11,
   "metadata": {},
   "outputs": [
    {
     "name": "stdout",
     "output_type": "stream",
     "text": [
      "[354 138   9  17   0   0   0   0   0   0   0   0   0   0   0   0   0   0\n",
      "   0   0   0   0   0   0   0   0   0   0   0   0]\n"
     ]
    }
   ],
   "source": [
    "from keras.preprocessing.sequence import pad_sequences\n",
    "\n",
    "maxlen = 30\n",
    "xseq_train = pad_sequences(xseq_train, padding='post', maxlen=maxlen)\n",
    "xseq_dev = pad_sequences(xseq_dev, padding='post', maxlen=maxlen)\n",
    "xseq_test = pad_sequences(xseq_test, padding='post', maxlen=maxlen)\n",
    "print(xseq_train[0])"
   ]
  },
  {
   "cell_type": "markdown",
   "metadata": {},
   "source": [
    "Now let's build our second model. This model first embeds each word in the input sequence into embeddings, and then concatenate the word embeddings together to represent input sequence. The ``Flatten`` function you see after the embedding layer is essentially doing the concatenation, by 'chaining' the list of word embeddings into a very long vector.\n",
    "\n",
    "If our word embeddings has a dimension 10, and our documents always have 30 words (padded), then here the concatenated word embeddings have a dimension of 10 x 30 = 300. \n",
    "\n",
    "The concatenated word embeddings undergo a linear transformation with non-linear activations (``layers.Dense(10, activation='relu')``), producing a hidden representation with a dimension of 10. It is then passed to the output layer."
   ]
  },
  {
   "cell_type": "code",
   "execution_count": 12,
   "metadata": {},
   "outputs": [
    {
     "name": "stdout",
     "output_type": "stream",
     "text": [
      "Model: \"feedforward-sequence-input\"\n",
      "_________________________________________________________________\n",
      "Layer (type)                 Output Shape              Param #   \n",
      "=================================================================\n",
      "embedding_1 (Embedding)      (None, 30, 10)            18110     \n",
      "_________________________________________________________________\n",
      "flatten_1 (Flatten)          (None, 300)               0         \n",
      "_________________________________________________________________\n",
      "dense_3 (Dense)              (None, 10)                3010      \n",
      "_________________________________________________________________\n",
      "dense_4 (Dense)              (None, 1)                 11        \n",
      "=================================================================\n",
      "Total params: 21,131\n",
      "Trainable params: 21,131\n",
      "Non-trainable params: 0\n",
      "_________________________________________________________________\n"
     ]
    }
   ],
   "source": [
    "embedding_dim = 10\n",
    "\n",
    "#word order preserved with this architecture\n",
    "model2 = Sequential(name=\"feedforward-sequence-input\")\n",
    "model2.add(layers.Embedding(input_dim=vocab_size, \n",
    "                           output_dim=embedding_dim, \n",
    "                           input_length=maxlen))\n",
    "model2.add(layers.Flatten())\n",
    "model2.add(layers.Dense(10, activation='relu'))\n",
    "model2.add(layers.Dense(1, activation='sigmoid'))\n",
    "model2.compile(optimizer='adam',\n",
    "              loss='binary_crossentropy',\n",
    "              metrics=['accuracy'])\n",
    "model2.summary()"
   ]
  },
  {
   "cell_type": "markdown",
   "metadata": {},
   "source": [
    "Now let's train the model and compute the test accuracy."
   ]
  },
  {
   "cell_type": "code",
   "execution_count": 13,
   "metadata": {},
   "outputs": [
    {
     "name": "stderr",
     "output_type": "stream",
     "text": [
      "/Users/jiachengye/opt/anaconda3/lib/python3.7/site-packages/tensorflow_core/python/framework/indexed_slices.py:433: UserWarning: Converting sparse IndexedSlices to a dense Tensor of unknown shape. This may consume a large amount of memory.\n",
      "  \"Converting sparse IndexedSlices to a dense Tensor of unknown shape. \"\n"
     ]
    },
    {
     "name": "stdout",
     "output_type": "stream",
     "text": [
      "Train on 800 samples, validate on 100 samples\n",
      "Epoch 1/20\n",
      "800/800 [==============================] - 0s 269us/step - loss: 0.6836 - accuracy: 0.5725 - val_loss: 0.7190 - val_accuracy: 0.4400\n",
      "Epoch 2/20\n",
      "800/800 [==============================] - 0s 94us/step - loss: 0.6631 - accuracy: 0.5987 - val_loss: 0.7144 - val_accuracy: 0.4400\n",
      "Epoch 3/20\n",
      "800/800 [==============================] - 0s 85us/step - loss: 0.6001 - accuracy: 0.7188 - val_loss: 0.6785 - val_accuracy: 0.5400\n",
      "Epoch 4/20\n",
      "800/800 [==============================] - 0s 84us/step - loss: 0.4370 - accuracy: 0.8975 - val_loss: 0.6378 - val_accuracy: 0.6400\n",
      "Epoch 5/20\n",
      "800/800 [==============================] - 0s 81us/step - loss: 0.2440 - accuracy: 0.9675 - val_loss: 0.5974 - val_accuracy: 0.6600\n",
      "Epoch 6/20\n",
      "800/800 [==============================] - 0s 86us/step - loss: 0.1311 - accuracy: 0.9812 - val_loss: 0.5614 - val_accuracy: 0.7200\n",
      "Epoch 7/20\n",
      "800/800 [==============================] - 0s 83us/step - loss: 0.0770 - accuracy: 0.9950 - val_loss: 0.5725 - val_accuracy: 0.7000\n",
      "Epoch 8/20\n",
      "800/800 [==============================] - 0s 83us/step - loss: 0.0467 - accuracy: 0.9975 - val_loss: 0.6173 - val_accuracy: 0.6500\n",
      "Epoch 9/20\n",
      "800/800 [==============================] - 0s 86us/step - loss: 0.0319 - accuracy: 1.0000 - val_loss: 0.5563 - val_accuracy: 0.7100\n",
      "Epoch 10/20\n",
      "800/800 [==============================] - 0s 94us/step - loss: 0.0220 - accuracy: 1.0000 - val_loss: 0.5876 - val_accuracy: 0.7100\n",
      "Epoch 11/20\n",
      "800/800 [==============================] - 0s 102us/step - loss: 0.0157 - accuracy: 1.0000 - val_loss: 0.6549 - val_accuracy: 0.6600\n",
      "Epoch 12/20\n",
      "800/800 [==============================] - 0s 98us/step - loss: 0.0121 - accuracy: 1.0000 - val_loss: 0.6093 - val_accuracy: 0.7000\n",
      "Epoch 13/20\n",
      "800/800 [==============================] - 0s 102us/step - loss: 0.0092 - accuracy: 1.0000 - val_loss: 0.5970 - val_accuracy: 0.7200\n",
      "Epoch 14/20\n",
      "800/800 [==============================] - 0s 83us/step - loss: 0.0074 - accuracy: 1.0000 - val_loss: 0.6238 - val_accuracy: 0.6900\n",
      "Epoch 15/20\n",
      "800/800 [==============================] - 0s 81us/step - loss: 0.0060 - accuracy: 1.0000 - val_loss: 0.6231 - val_accuracy: 0.7200\n",
      "Epoch 16/20\n",
      "800/800 [==============================] - 0s 85us/step - loss: 0.0050 - accuracy: 1.0000 - val_loss: 0.6372 - val_accuracy: 0.7100\n",
      "Epoch 17/20\n",
      "800/800 [==============================] - 0s 84us/step - loss: 0.0041 - accuracy: 1.0000 - val_loss: 0.6473 - val_accuracy: 0.7000\n",
      "Epoch 18/20\n",
      "800/800 [==============================] - 0s 97us/step - loss: 0.0036 - accuracy: 1.0000 - val_loss: 0.6311 - val_accuracy: 0.7200\n",
      "Epoch 19/20\n",
      "800/800 [==============================] - 0s 89us/step - loss: 0.0030 - accuracy: 1.0000 - val_loss: 0.6886 - val_accuracy: 0.6800\n",
      "Epoch 20/20\n",
      "800/800 [==============================] - 0s 99us/step - loss: 0.0027 - accuracy: 1.0000 - val_loss: 0.6667 - val_accuracy: 0.7100\n",
      "Testing Accuracy:  0.6300\n"
     ]
    }
   ],
   "source": [
    "model2.fit(xseq_train, y_train, epochs=20, verbose=True, validation_data=(xseq_dev, y_dev), batch_size=10)\n",
    "\n",
    "loss, accuracy = model2.evaluate(xseq_test, y_test, verbose=False)\n",
    "print(\"Testing Accuracy:  {:.4f}\".format(accuracy))"
   ]
  },
  {
   "cell_type": "markdown",
   "metadata": {},
   "source": [
    "You may find that the performance isn't as good as the BOW model. In general, concatenating word embeddings isn't a good way to represent word sequence.\n",
    "\n",
    "A better way is to build a recurrent model. But first, let's extract the word embeddings for the 4 words as before and look at their similarity."
   ]
  },
  {
   "cell_type": "code",
   "execution_count": 14,
   "metadata": {},
   "outputs": [
    {
     "name": "stdout",
     "output_type": "stream",
     "text": [
      "love vs. like = 0.1426105\n",
      "love vs. lukewarm = -0.26727965\n",
      "love vs. bad = -0.4823963\n",
      "lukewarm vs. bad = 0.18090342\n"
     ]
    }
   ],
   "source": [
    "embeddings = model2.get_layer(index=0).get_weights()[0] #word embeddings\n",
    "\n",
    "emb_love = embeddings[tokenizer.word_index[\"love\"]]\n",
    "emb_like = embeddings[tokenizer.word_index[\"like\"]]\n",
    "emb_lukewarm = embeddings[tokenizer.word_index[\"lukewarm\"]]\n",
    "emb_bad = embeddings[tokenizer.word_index[\"bad\"]]\n",
    "\n",
    "print(\"love vs. like =\", cos_sim(emb_love, emb_like))\n",
    "print(\"love vs. lukewarm =\", cos_sim(emb_love, emb_lukewarm))\n",
    "print(\"love vs. bad =\", cos_sim(emb_love, emb_bad))\n",
    "print(\"lukewarm vs. bad =\", cos_sim(emb_lukewarm, emb_bad))"
   ]
  },
  {
   "cell_type": "markdown",
   "metadata": {},
   "source": [
    "Now, let's try to build an LSTM model. After the embeddings layer, the LSTM layer will process the words one at a time, and compute the next state (dimension for the hidden state = 10 in this case). The output of the LSTM layer is the final state, produced after processing the last word, and that will be fed to the output layer."
   ]
  },
  {
   "cell_type": "code",
   "execution_count": 15,
   "metadata": {},
   "outputs": [
    {
     "name": "stdout",
     "output_type": "stream",
     "text": [
      "Model: \"lstm\"\n",
      "_________________________________________________________________\n",
      "Layer (type)                 Output Shape              Param #   \n",
      "=================================================================\n",
      "embedding_2 (Embedding)      (None, 30, 10)            18110     \n",
      "_________________________________________________________________\n",
      "lstm_1 (LSTM)                (None, 10)                840       \n",
      "_________________________________________________________________\n",
      "dense_5 (Dense)              (None, 1)                 11        \n",
      "=================================================================\n",
      "Total params: 18,961\n",
      "Trainable params: 18,961\n",
      "Non-trainable params: 0\n",
      "_________________________________________________________________\n"
     ]
    }
   ],
   "source": [
    "from keras.layers import LSTM\n",
    "\n",
    "#word order preserved with this architecture\n",
    "model3 = Sequential(name=\"lstm\")\n",
    "model3.add(layers.Embedding(input_dim=vocab_size, \n",
    "                           output_dim=embedding_dim, \n",
    "                           input_length=maxlen))\n",
    "model3.add(LSTM(10))\n",
    "model3.add(layers.Dense(1, activation='sigmoid'))\n",
    "model3.compile(optimizer='adam',\n",
    "              loss='binary_crossentropy',\n",
    "              metrics=['accuracy'])\n",
    "model3.summary()"
   ]
  },
  {
   "cell_type": "markdown",
   "metadata": {},
   "source": [
    "Let's train the LSTM model and see the test performance."
   ]
  },
  {
   "cell_type": "code",
   "execution_count": 16,
   "metadata": {},
   "outputs": [
    {
     "name": "stderr",
     "output_type": "stream",
     "text": [
      "/Users/jiachengye/opt/anaconda3/lib/python3.7/site-packages/tensorflow_core/python/framework/indexed_slices.py:433: UserWarning: Converting sparse IndexedSlices to a dense Tensor of unknown shape. This may consume a large amount of memory.\n",
      "  \"Converting sparse IndexedSlices to a dense Tensor of unknown shape. \"\n"
     ]
    },
    {
     "name": "stdout",
     "output_type": "stream",
     "text": [
      "Train on 800 samples, validate on 100 samples\n",
      "Epoch 1/20\n",
      "800/800 [==============================] - 1s 2ms/step - loss: 0.6874 - accuracy: 0.5650 - val_loss: 0.7127 - val_accuracy: 0.4400\n",
      "Epoch 2/20\n",
      "800/800 [==============================] - 1s 972us/step - loss: 0.6835 - accuracy: 0.5650 - val_loss: 0.7106 - val_accuracy: 0.4400\n",
      "Epoch 3/20\n",
      "800/800 [==============================] - 1s 932us/step - loss: 0.6067 - accuracy: 0.6662 - val_loss: 0.4907 - val_accuracy: 0.8100\n",
      "Epoch 4/20\n",
      "800/800 [==============================] - 1s 922us/step - loss: 0.3115 - accuracy: 0.9038 - val_loss: 0.4887 - val_accuracy: 0.8100\n",
      "Epoch 5/20\n",
      "800/800 [==============================] - 1s 903us/step - loss: 0.1719 - accuracy: 0.9575 - val_loss: 0.5009 - val_accuracy: 0.8000\n",
      "Epoch 6/20\n",
      "800/800 [==============================] - 1s 898us/step - loss: 0.1175 - accuracy: 0.9737 - val_loss: 0.6441 - val_accuracy: 0.8200\n",
      "Epoch 7/20\n",
      "800/800 [==============================] - 1s 1ms/step - loss: 0.1027 - accuracy: 0.9762 - val_loss: 0.5116 - val_accuracy: 0.8300\n",
      "Epoch 8/20\n",
      "800/800 [==============================] - 1s 948us/step - loss: 0.1109 - accuracy: 0.9750 - val_loss: 0.7681 - val_accuracy: 0.7900\n",
      "Epoch 9/20\n",
      "800/800 [==============================] - 1s 892us/step - loss: 0.0893 - accuracy: 0.9812 - val_loss: 0.5661 - val_accuracy: 0.8300\n",
      "Epoch 10/20\n",
      "800/800 [==============================] - 1s 874us/step - loss: 0.0672 - accuracy: 0.9875 - val_loss: 0.6870 - val_accuracy: 0.8000\n",
      "Epoch 11/20\n",
      "800/800 [==============================] - 1s 882us/step - loss: 0.0491 - accuracy: 0.9925 - val_loss: 0.8251 - val_accuracy: 0.7900\n",
      "Epoch 12/20\n",
      "800/800 [==============================] - 1s 877us/step - loss: 0.0576 - accuracy: 0.9887 - val_loss: 0.7299 - val_accuracy: 0.8200\n",
      "Epoch 13/20\n",
      "800/800 [==============================] - 1s 997us/step - loss: 0.0454 - accuracy: 0.9912 - val_loss: 0.5647 - val_accuracy: 0.8500\n",
      "Epoch 14/20\n",
      "800/800 [==============================] - 1s 886us/step - loss: 0.0460 - accuracy: 0.9912 - val_loss: 0.5716 - val_accuracy: 0.8100\n",
      "Epoch 15/20\n",
      "800/800 [==============================] - 1s 888us/step - loss: 0.0326 - accuracy: 0.9937 - val_loss: 0.6662 - val_accuracy: 0.8200\n",
      "Epoch 16/20\n",
      "800/800 [==============================] - 1s 874us/step - loss: 0.0277 - accuracy: 0.9950 - val_loss: 0.6347 - val_accuracy: 0.7900\n",
      "Epoch 17/20\n",
      "800/800 [==============================] - 1s 927us/step - loss: 0.0202 - accuracy: 0.9975 - val_loss: 0.7134 - val_accuracy: 0.8000\n",
      "Epoch 18/20\n",
      "800/800 [==============================] - 1s 878us/step - loss: 0.0192 - accuracy: 0.9975 - val_loss: 0.7572 - val_accuracy: 0.8100\n",
      "Epoch 19/20\n",
      "800/800 [==============================] - 1s 903us/step - loss: 0.0185 - accuracy: 0.9975 - val_loss: 0.7946 - val_accuracy: 0.8100\n",
      "Epoch 20/20\n",
      "800/800 [==============================] - 1s 906us/step - loss: 0.0180 - accuracy: 0.9975 - val_loss: 0.8257 - val_accuracy: 0.8100\n",
      "Testing Accuracy:  0.9000\n"
     ]
    }
   ],
   "source": [
    "model3.fit(xseq_train, y_train, epochs=20, verbose=True, validation_data=(xseq_dev, y_dev), batch_size=10)\n",
    "\n",
    "loss, accuracy = model3.evaluate(xseq_test, y_test, verbose=False)\n",
    "print(\"Testing Accuracy:  {:.4f}\".format(accuracy))"
   ]
  },
  {
   "cell_type": "markdown",
   "metadata": {},
   "source": [
    "You should notice that the training is quite a bit slower, and that's because now the model has to process the sequence one word at a time. But the results should be better!\n",
    "\n",
    "And lastly, let's extract the embeddings and look at the their similarity."
   ]
  },
  {
   "cell_type": "code",
   "execution_count": 17,
   "metadata": {},
   "outputs": [
    {
     "name": "stdout",
     "output_type": "stream",
     "text": [
      "love vs. like = 0.467547\n",
      "love vs. lukewarm = -0.8988657\n",
      "love vs. bad = -0.8930899\n",
      "lukewarm vs. bad = 0.9082503\n"
     ]
    }
   ],
   "source": [
    "embeddings = model3.get_layer(index=0).get_weights()[0] #word embeddings\n",
    "\n",
    "emb_love = embeddings[tokenizer.word_index[\"love\"]]\n",
    "emb_like = embeddings[tokenizer.word_index[\"like\"]]\n",
    "emb_lukewarm = embeddings[tokenizer.word_index[\"lukewarm\"]]\n",
    "emb_bad = embeddings[tokenizer.word_index[\"bad\"]]\n",
    "\n",
    "print(\"love vs. like =\", cos_sim(emb_love, emb_like))\n",
    "print(\"love vs. lukewarm =\", cos_sim(emb_love, emb_lukewarm))\n",
    "print(\"love vs. bad =\", cos_sim(emb_love, emb_bad))\n",
    "print(\"lukewarm vs. bad =\", cos_sim(emb_lukewarm, emb_bad))"
   ]
  },
  {
   "cell_type": "code",
   "execution_count": null,
   "metadata": {
    "collapsed": true
   },
   "outputs": [],
   "source": []
  }
 ],
 "metadata": {
  "kernelspec": {
   "display_name": "Python 3",
   "language": "python",
   "name": "python3"
  },
  "language_info": {
   "codemirror_mode": {
    "name": "ipython",
    "version": 3
   },
   "file_extension": ".py",
   "mimetype": "text/x-python",
   "name": "python",
   "nbconvert_exporter": "python",
   "pygments_lexer": "ipython3",
   "version": "3.7.4"
  }
 },
 "nbformat": 4,
 "nbformat_minor": 2
}
